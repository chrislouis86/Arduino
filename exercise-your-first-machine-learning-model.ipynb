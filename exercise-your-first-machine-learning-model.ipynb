{
 "cells": [
  {
   "cell_type": "markdown",
   "id": "876e0de2",
   "metadata": {
    "papermill": {
     "duration": 0.005077,
     "end_time": "2025-01-13T22:49:09.853307",
     "exception": false,
     "start_time": "2025-01-13T22:49:09.848230",
     "status": "completed"
    },
    "tags": []
   },
   "source": [
    "**This notebook is an exercise in the [Introduction to Machine Learning](https://www.kaggle.com/learn/intro-to-machine-learning) course.  You can reference the tutorial at [this link](https://www.kaggle.com/dansbecker/your-first-machine-learning-model).**\n",
    "\n",
    "---\n"
   ]
  },
  {
   "cell_type": "markdown",
   "id": "2f7ac3c6",
   "metadata": {
    "papermill": {
     "duration": 0.003806,
     "end_time": "2025-01-13T22:49:09.861825",
     "exception": false,
     "start_time": "2025-01-13T22:49:09.858019",
     "status": "completed"
    },
    "tags": []
   },
   "source": [
    "## Recap\n",
    "So far, you have loaded your data and reviewed it with the following code. Run this cell to set up your coding environment where the previous step left off."
   ]
  },
  {
   "cell_type": "code",
   "execution_count": 1,
   "id": "56a40bfc",
   "metadata": {
    "execution": {
     "iopub.execute_input": "2025-01-13T22:49:09.871716Z",
     "iopub.status.busy": "2025-01-13T22:49:09.871362Z",
     "iopub.status.idle": "2025-01-13T22:49:11.898945Z",
     "shell.execute_reply": "2025-01-13T22:49:11.897523Z"
    },
    "papermill": {
     "duration": 2.034657,
     "end_time": "2025-01-13T22:49:11.900768",
     "exception": false,
     "start_time": "2025-01-13T22:49:09.866111",
     "status": "completed"
    },
    "tags": []
   },
   "outputs": [
    {
     "name": "stdout",
     "output_type": "stream",
     "text": [
      "Setup Complete\n"
     ]
    }
   ],
   "source": [
    "# Code you have previously used to load data\n",
    "import pandas as pd\n",
    "\n",
    "# Path of the file to read\n",
    "iowa_file_path = '../input/home-data-for-ml-course/train.csv'\n",
    "\n",
    "home_data = pd.read_csv(iowa_file_path)\n",
    "\n",
    "# Set up code checking\n",
    "from learntools.core import binder\n",
    "binder.bind(globals())\n",
    "from learntools.machine_learning.ex3 import *\n",
    "\n",
    "print(\"Setup Complete\")"
   ]
  },
  {
   "cell_type": "markdown",
   "id": "54b5e5ef",
   "metadata": {
    "papermill": {
     "duration": 0.004205,
     "end_time": "2025-01-13T22:49:11.909763",
     "exception": false,
     "start_time": "2025-01-13T22:49:11.905558",
     "status": "completed"
    },
    "tags": []
   },
   "source": [
    "# Exercises\n",
    "\n",
    "## Step 1: Specify Prediction Target\n",
    "Select the target variable, which corresponds to the sales price. Save this to a new variable called `y`. You'll need to print a list of the columns to find the name of the column you need.\n"
   ]
  },
  {
   "cell_type": "code",
   "execution_count": 2,
   "id": "2a2af066",
   "metadata": {
    "execution": {
     "iopub.execute_input": "2025-01-13T22:49:11.920431Z",
     "iopub.status.busy": "2025-01-13T22:49:11.919777Z",
     "iopub.status.idle": "2025-01-13T22:49:11.928005Z",
     "shell.execute_reply": "2025-01-13T22:49:11.927007Z"
    },
    "papermill": {
     "duration": 0.015176,
     "end_time": "2025-01-13T22:49:11.929544",
     "exception": false,
     "start_time": "2025-01-13T22:49:11.914368",
     "status": "completed"
    },
    "tags": []
   },
   "outputs": [],
   "source": [
    "# print the list of columns in the dataset to find the name of the prediction target\n",
    "y = home_data.SalePrice "
   ]
  },
  {
   "cell_type": "code",
   "execution_count": 3,
   "id": "587a90d1",
   "metadata": {
    "execution": {
     "iopub.execute_input": "2025-01-13T22:49:11.939784Z",
     "iopub.status.busy": "2025-01-13T22:49:11.939468Z",
     "iopub.status.idle": "2025-01-13T22:49:11.943176Z",
     "shell.execute_reply": "2025-01-13T22:49:11.942200Z"
    },
    "papermill": {
     "duration": 0.010671,
     "end_time": "2025-01-13T22:49:11.944938",
     "exception": false,
     "start_time": "2025-01-13T22:49:11.934267",
     "status": "completed"
    },
    "tags": []
   },
   "outputs": [],
   "source": [
    "# The lines below will show you a hint or the solution.\n",
    "#step_1.hint() \n",
    "#step_1.solution()"
   ]
  },
  {
   "cell_type": "markdown",
   "id": "89d8e1b9",
   "metadata": {
    "papermill": {
     "duration": 0.004091,
     "end_time": "2025-01-13T22:49:11.953480",
     "exception": false,
     "start_time": "2025-01-13T22:49:11.949389",
     "status": "completed"
    },
    "tags": []
   },
   "source": [
    "## Step 2: Create X\n",
    "Now you will create a DataFrame called `X` holding the predictive features.\n",
    "\n",
    "Since you want only some columns from the original data, you'll first create a list with the names of the columns you want in `X`.\n",
    "\n",
    "You'll use just the following columns in the list (you can copy and paste the whole list to save some typing, though you'll still need to add quotes):\n",
    "  * LotArea\n",
    "  * YearBuilt\n",
    "  * 1stFlrSF\n",
    "  * 2ndFlrSF\n",
    "  * FullBath\n",
    "  * BedroomAbvGr\n",
    "  * TotRmsAbvGrd\n",
    "\n",
    "After you've created that list of features, use it to create the DataFrame that you'll use to fit the model."
   ]
  },
  {
   "cell_type": "code",
   "execution_count": 4,
   "id": "5995f803",
   "metadata": {
    "execution": {
     "iopub.execute_input": "2025-01-13T22:49:11.963729Z",
     "iopub.status.busy": "2025-01-13T22:49:11.963376Z",
     "iopub.status.idle": "2025-01-13T22:49:11.981919Z",
     "shell.execute_reply": "2025-01-13T22:49:11.980901Z"
    },
    "papermill": {
     "duration": 0.025906,
     "end_time": "2025-01-13T22:49:11.983693",
     "exception": false,
     "start_time": "2025-01-13T22:49:11.957787",
     "status": "completed"
    },
    "tags": []
   },
   "outputs": [
    {
     "data": {
      "application/javascript": [
       "parent.postMessage({\"jupyterEvent\": \"custom.exercise_interaction\", \"data\": {\"outcomeType\": 1, \"valueTowardsCompletion\": 0.25, \"interactionType\": 1, \"questionType\": 2, \"questionId\": \"2_SelectPredictionData\", \"learnToolsVersion\": \"0.3.4\", \"failureMessage\": \"\", \"exceptionClass\": \"\", \"trace\": \"\"}}, \"*\")"
      ],
      "text/plain": [
       "<IPython.core.display.Javascript object>"
      ]
     },
     "metadata": {},
     "output_type": "display_data"
    },
    {
     "data": {
      "text/markdown": [
       "<span style=\"color:#33cc33\">Correct</span>"
      ],
      "text/plain": [
       "Correct"
      ]
     },
     "metadata": {},
     "output_type": "display_data"
    }
   ],
   "source": [
    "# Create the list of features below\n",
    "feature_names = [\"LotArea\", \"YearBuilt\", \"1stFlrSF\", \"2ndFlrSF\",\n",
    "                      \"FullBath\", \"BedroomAbvGr\", \"TotRmsAbvGrd\"]\n",
    "\n",
    "# Select data corresponding to features in feature_names\n",
    "X = home_data[feature_names]\n",
    "\n",
    "# Check your answer\n",
    "step_2.check()"
   ]
  },
  {
   "cell_type": "code",
   "execution_count": 5,
   "id": "4ce26af6",
   "metadata": {
    "execution": {
     "iopub.execute_input": "2025-01-13T22:49:11.994045Z",
     "iopub.status.busy": "2025-01-13T22:49:11.993684Z",
     "iopub.status.idle": "2025-01-13T22:49:11.997399Z",
     "shell.execute_reply": "2025-01-13T22:49:11.996219Z"
    },
    "papermill": {
     "duration": 0.010461,
     "end_time": "2025-01-13T22:49:11.998914",
     "exception": false,
     "start_time": "2025-01-13T22:49:11.988453",
     "status": "completed"
    },
    "tags": []
   },
   "outputs": [],
   "source": [
    "#step_2.hint()\n",
    "#step_2.solution()"
   ]
  },
  {
   "cell_type": "markdown",
   "id": "346a1cd8",
   "metadata": {
    "papermill": {
     "duration": 0.004544,
     "end_time": "2025-01-13T22:49:12.008117",
     "exception": false,
     "start_time": "2025-01-13T22:49:12.003573",
     "status": "completed"
    },
    "tags": []
   },
   "source": [
    "## Review Data\n",
    "Before building a model, take a quick look at **X** to verify it looks sensible"
   ]
  },
  {
   "cell_type": "code",
   "execution_count": 6,
   "id": "42b959f9",
   "metadata": {
    "execution": {
     "iopub.execute_input": "2025-01-13T22:49:12.018301Z",
     "iopub.status.busy": "2025-01-13T22:49:12.017966Z",
     "iopub.status.idle": "2025-01-13T22:49:12.104850Z",
     "shell.execute_reply": "2025-01-13T22:49:12.103503Z"
    },
    "papermill": {
     "duration": 0.09416,
     "end_time": "2025-01-13T22:49:12.106720",
     "exception": false,
     "start_time": "2025-01-13T22:49:12.012560",
     "status": "completed"
    },
    "tags": []
   },
   "outputs": [
    {
     "name": "stdout",
     "output_type": "stream",
     "text": [
      "      LotArea  YearBuilt  1stFlrSF  2ndFlrSF  FullBath  BedroomAbvGr  \\\n",
      "0        8450       2003       856       854         2             3   \n",
      "1        9600       1976      1262         0         2             3   \n",
      "2       11250       2001       920       866         2             3   \n",
      "3        9550       1915       961       756         1             3   \n",
      "4       14260       2000      1145      1053         2             4   \n",
      "...       ...        ...       ...       ...       ...           ...   \n",
      "1455     7917       1999       953       694         2             3   \n",
      "1456    13175       1978      2073         0         2             3   \n",
      "1457     9042       1941      1188      1152         2             4   \n",
      "1458     9717       1950      1078         0         1             2   \n",
      "1459     9937       1965      1256         0         1             3   \n",
      "\n",
      "      TotRmsAbvGrd  \n",
      "0                8  \n",
      "1                6  \n",
      "2                6  \n",
      "3                7  \n",
      "4                9  \n",
      "...            ...  \n",
      "1455             7  \n",
      "1456             7  \n",
      "1457             9  \n",
      "1458             5  \n",
      "1459             6  \n",
      "\n",
      "[1460 rows x 7 columns]\n",
      "      LotArea  YearBuilt  1stFlrSF  2ndFlrSF  FullBath  BedroomAbvGr  \\\n",
      "0        8450       2003       856       854         2             3   \n",
      "1        9600       1976      1262         0         2             3   \n",
      "2       11250       2001       920       866         2             3   \n",
      "3        9550       1915       961       756         1             3   \n",
      "4       14260       2000      1145      1053         2             4   \n",
      "...       ...        ...       ...       ...       ...           ...   \n",
      "1455     7917       1999       953       694         2             3   \n",
      "1456    13175       1978      2073         0         2             3   \n",
      "1457     9042       1941      1188      1152         2             4   \n",
      "1458     9717       1950      1078         0         1             2   \n",
      "1459     9937       1965      1256         0         1             3   \n",
      "\n",
      "      TotRmsAbvGrd  \n",
      "0                8  \n",
      "1                6  \n",
      "2                6  \n",
      "3                7  \n",
      "4                9  \n",
      "...            ...  \n",
      "1455             7  \n",
      "1456             7  \n",
      "1457             9  \n",
      "1458             5  \n",
      "1459             6  \n",
      "\n",
      "[1460 rows x 7 columns]\n"
     ]
    }
   ],
   "source": [
    "# Review data\n",
    "# print description or statistics from X\n",
    "print(X)\n",
    "\n",
    "# print the top few lines\n",
    "print(X)"
   ]
  },
  {
   "cell_type": "code",
   "execution_count": null,
   "id": "bbe7be57",
   "metadata": {
    "papermill": {
     "duration": 0.004534,
     "end_time": "2025-01-13T22:49:12.116163",
     "exception": false,
     "start_time": "2025-01-13T22:49:12.111629",
     "status": "completed"
    },
    "tags": []
   },
   "outputs": [],
   "source": []
  },
  {
   "cell_type": "markdown",
   "id": "358ae787",
   "metadata": {
    "papermill": {
     "duration": 0.004339,
     "end_time": "2025-01-13T22:49:12.125215",
     "exception": false,
     "start_time": "2025-01-13T22:49:12.120876",
     "status": "completed"
    },
    "tags": []
   },
   "source": [
    "## Step 3: Specify and Fit Model\n",
    "Create a `DecisionTreeRegressor` and save it iowa_model. Ensure you've done the relevant import from sklearn to run this command.\n",
    "\n",
    "Then fit the model you just created using the data in `X` and `y` that you saved above."
   ]
  },
  {
   "cell_type": "code",
   "execution_count": 7,
   "id": "c71090a4",
   "metadata": {
    "execution": {
     "iopub.execute_input": "2025-01-13T22:49:12.135740Z",
     "iopub.status.busy": "2025-01-13T22:49:12.135383Z",
     "iopub.status.idle": "2025-01-13T22:49:12.154581Z",
     "shell.execute_reply": "2025-01-13T22:49:12.153484Z"
    },
    "papermill": {
     "duration": 0.026601,
     "end_time": "2025-01-13T22:49:12.156366",
     "exception": false,
     "start_time": "2025-01-13T22:49:12.129765",
     "status": "completed"
    },
    "tags": []
   },
   "outputs": [
    {
     "data": {
      "application/javascript": [
       "parent.postMessage({\"jupyterEvent\": \"custom.exercise_interaction\", \"data\": {\"outcomeType\": 1, \"valueTowardsCompletion\": 0.25, \"interactionType\": 1, \"questionType\": 2, \"questionId\": \"3_CreateModel\", \"learnToolsVersion\": \"0.3.4\", \"failureMessage\": \"\", \"exceptionClass\": \"\", \"trace\": \"\"}}, \"*\")"
      ],
      "text/plain": [
       "<IPython.core.display.Javascript object>"
      ]
     },
     "metadata": {},
     "output_type": "display_data"
    },
    {
     "data": {
      "text/markdown": [
       "<span style=\"color:#33cc33\">Correct</span>"
      ],
      "text/plain": [
       "Correct"
      ]
     },
     "metadata": {},
     "output_type": "display_data"
    }
   ],
   "source": [
    "from sklearn.tree import DecisionTreeRegressor \n",
    "#specify the model. \n",
    "#For model reproducibility, set a numeric value for random_state when specifying the model\n",
    "iowa_model = DecisionTreeRegressor(random_state=1)\n",
    "\n",
    "# Fit the model\n",
    "iowa_model.fit(X, y)\n",
    "\n",
    "# Check your answer\n",
    "step_3.check()"
   ]
  },
  {
   "cell_type": "code",
   "execution_count": 8,
   "id": "6614db0f",
   "metadata": {
    "execution": {
     "iopub.execute_input": "2025-01-13T22:49:12.168354Z",
     "iopub.status.busy": "2025-01-13T22:49:12.168010Z",
     "iopub.status.idle": "2025-01-13T22:49:12.171695Z",
     "shell.execute_reply": "2025-01-13T22:49:12.170750Z"
    },
    "papermill": {
     "duration": 0.011418,
     "end_time": "2025-01-13T22:49:12.173365",
     "exception": false,
     "start_time": "2025-01-13T22:49:12.161947",
     "status": "completed"
    },
    "tags": []
   },
   "outputs": [],
   "source": [
    " #step_3.hint()\n",
    " #step_3.solution()"
   ]
  },
  {
   "cell_type": "markdown",
   "id": "3b35221c",
   "metadata": {
    "papermill": {
     "duration": 0.004883,
     "end_time": "2025-01-13T22:49:12.183290",
     "exception": false,
     "start_time": "2025-01-13T22:49:12.178407",
     "status": "completed"
    },
    "tags": []
   },
   "source": [
    "## Step 4: Make Predictions\n",
    "Make predictions with the model's `predict` command using `X` as the data. Save the results to a variable called `predictions`."
   ]
  },
  {
   "cell_type": "code",
   "execution_count": 9,
   "id": "f4b7aee8",
   "metadata": {
    "execution": {
     "iopub.execute_input": "2025-01-13T22:49:12.194356Z",
     "iopub.status.busy": "2025-01-13T22:49:12.193974Z",
     "iopub.status.idle": "2025-01-13T22:49:12.205506Z",
     "shell.execute_reply": "2025-01-13T22:49:12.204496Z"
    },
    "papermill": {
     "duration": 0.018939,
     "end_time": "2025-01-13T22:49:12.207084",
     "exception": false,
     "start_time": "2025-01-13T22:49:12.188145",
     "status": "completed"
    },
    "tags": []
   },
   "outputs": [
    {
     "name": "stdout",
     "output_type": "stream",
     "text": [
      "[208500. 181500. 223500. ... 266500. 142125. 147500.]\n"
     ]
    },
    {
     "data": {
      "application/javascript": [
       "parent.postMessage({\"jupyterEvent\": \"custom.exercise_interaction\", \"data\": {\"outcomeType\": 1, \"valueTowardsCompletion\": 0.25, \"interactionType\": 1, \"questionType\": 2, \"questionId\": \"4_MakePredictions\", \"learnToolsVersion\": \"0.3.4\", \"failureMessage\": \"\", \"exceptionClass\": \"\", \"trace\": \"\"}}, \"*\")"
      ],
      "text/plain": [
       "<IPython.core.display.Javascript object>"
      ]
     },
     "metadata": {},
     "output_type": "display_data"
    },
    {
     "data": {
      "text/markdown": [
       "<span style=\"color:#33cc33\">Correct</span>"
      ],
      "text/plain": [
       "Correct"
      ]
     },
     "metadata": {},
     "output_type": "display_data"
    }
   ],
   "source": [
    "predictions = iowa_model.predict(X)\n",
    "print(predictions)\n",
    "\n",
    "# Check your answer\n",
    "step_4.check()"
   ]
  },
  {
   "cell_type": "code",
   "execution_count": 10,
   "id": "8a2569fc",
   "metadata": {
    "execution": {
     "iopub.execute_input": "2025-01-13T22:49:12.218774Z",
     "iopub.status.busy": "2025-01-13T22:49:12.218427Z",
     "iopub.status.idle": "2025-01-13T22:49:12.228674Z",
     "shell.execute_reply": "2025-01-13T22:49:12.227731Z"
    },
    "papermill": {
     "duration": 0.018015,
     "end_time": "2025-01-13T22:49:12.230314",
     "exception": false,
     "start_time": "2025-01-13T22:49:12.212299",
     "status": "completed"
    },
    "tags": []
   },
   "outputs": [
    {
     "data": {
      "application/javascript": [
       "parent.postMessage({\"jupyterEvent\": \"custom.exercise_interaction\", \"data\": {\"interactionType\": 2, \"questionType\": 2, \"questionId\": \"4_MakePredictions\", \"learnToolsVersion\": \"0.3.4\", \"valueTowardsCompletion\": 0.0, \"failureMessage\": \"\", \"exceptionClass\": \"\", \"trace\": \"\", \"outcomeType\": 4}}, \"*\")"
      ],
      "text/plain": [
       "<IPython.core.display.Javascript object>"
      ]
     },
     "metadata": {},
     "output_type": "display_data"
    },
    {
     "data": {
      "text/markdown": [
       "<span style=\"color:#3366cc\">Hint:</span> Use `iowa_model.predict` with an argument holding the data to predict with."
      ],
      "text/plain": [
       "Hint: Use `iowa_model.predict` with an argument holding the data to predict with."
      ]
     },
     "metadata": {},
     "output_type": "display_data"
    },
    {
     "data": {
      "application/javascript": [
       "parent.postMessage({\"jupyterEvent\": \"custom.exercise_interaction\", \"data\": {\"interactionType\": 3, \"questionType\": 2, \"questionId\": \"4_MakePredictions\", \"learnToolsVersion\": \"0.3.4\", \"valueTowardsCompletion\": 0.0, \"failureMessage\": \"\", \"exceptionClass\": \"\", \"trace\": \"\", \"outcomeType\": 4}}, \"*\")"
      ],
      "text/plain": [
       "<IPython.core.display.Javascript object>"
      ]
     },
     "metadata": {},
     "output_type": "display_data"
    },
    {
     "data": {
      "text/markdown": [
       "<span style=\"color:#33cc99\">Solution:</span> \n",
       "```python\n",
       "iowa_model.predict(X)\n",
       "```"
      ],
      "text/plain": [
       "Solution: \n",
       "```python\n",
       "iowa_model.predict(X)\n",
       "```"
      ]
     },
     "metadata": {},
     "output_type": "display_data"
    }
   ],
   "source": [
    "step_4.hint()\n",
    "step_4.solution()"
   ]
  },
  {
   "cell_type": "markdown",
   "id": "69dc047a",
   "metadata": {
    "papermill": {
     "duration": 0.005657,
     "end_time": "2025-01-13T22:49:12.241642",
     "exception": false,
     "start_time": "2025-01-13T22:49:12.235985",
     "status": "completed"
    },
    "tags": []
   },
   "source": [
    "## Think About Your Results\n",
    "\n",
    "Use the `head` method to compare the top few predictions to the actual home values (in `y`) for those same homes. Anything surprising?\n"
   ]
  },
  {
   "cell_type": "code",
   "execution_count": 11,
   "id": "f00ef094",
   "metadata": {
    "execution": {
     "iopub.execute_input": "2025-01-13T22:49:12.253803Z",
     "iopub.status.busy": "2025-01-13T22:49:12.253445Z",
     "iopub.status.idle": "2025-01-13T22:49:12.261749Z",
     "shell.execute_reply": "2025-01-13T22:49:12.260675Z"
    },
    "papermill": {
     "duration": 0.016349,
     "end_time": "2025-01-13T22:49:12.263513",
     "exception": false,
     "start_time": "2025-01-13T22:49:12.247164",
     "status": "completed"
    },
    "tags": []
   },
   "outputs": [
    {
     "name": "stdout",
     "output_type": "stream",
     "text": [
      "[208500. 181500. 223500. ... 266500. 142125. 147500.]\n"
     ]
    }
   ],
   "source": [
    "# You can write code in this cell\n",
    "predictions = iowa_model.predict(X.head())\n",
    "\n",
    "predictions = iowa_model.predict(X)\n",
    "print(predictions)"
   ]
  },
  {
   "cell_type": "markdown",
   "id": "f9426c56",
   "metadata": {
    "papermill": {
     "duration": 0.006031,
     "end_time": "2025-01-13T22:49:12.275933",
     "exception": false,
     "start_time": "2025-01-13T22:49:12.269902",
     "status": "completed"
    },
    "tags": []
   },
   "source": [
    "It's natural to ask how accurate the model's predictions will be and how you can improve that. That will be you're next step.\n",
    "\n",
    "# Keep Going\n",
    "\n",
    "You are ready for **[Model Validation](https://www.kaggle.com/dansbecker/model-validation).**\n"
   ]
  },
  {
   "cell_type": "markdown",
   "id": "fb29db3d",
   "metadata": {
    "papermill": {
     "duration": 0.005198,
     "end_time": "2025-01-13T22:49:12.286708",
     "exception": false,
     "start_time": "2025-01-13T22:49:12.281510",
     "status": "completed"
    },
    "tags": []
   },
   "source": [
    "---\n",
    "\n",
    "\n",
    "\n",
    "\n",
    "*Have questions or comments? Visit the [course discussion forum](https://www.kaggle.com/learn/intro-to-machine-learning/discussion) to chat with other learners.*"
   ]
  }
 ],
 "metadata": {
  "kaggle": {
   "accelerator": "none",
   "dataSources": [
    {
     "databundleVersionId": 111096,
     "sourceId": 10211,
     "sourceType": "competition"
    },
    {
     "datasetId": 11167,
     "sourceId": 15520,
     "sourceType": "datasetVersion"
    },
    {
     "datasetId": 2709,
     "sourceId": 38454,
     "sourceType": "datasetVersion"
    }
   ],
   "isGpuEnabled": false,
   "isInternetEnabled": false,
   "language": "python",
   "sourceType": "notebook"
  },
  "kernelspec": {
   "display_name": "Python 3",
   "language": "python",
   "name": "python3"
  },
  "language_info": {
   "codemirror_mode": {
    "name": "ipython",
    "version": 3
   },
   "file_extension": ".py",
   "mimetype": "text/x-python",
   "name": "python",
   "nbconvert_exporter": "python",
   "pygments_lexer": "ipython3",
   "version": "3.10.12"
  },
  "papermill": {
   "default_parameters": {},
   "duration": 5.257192,
   "end_time": "2025-01-13T22:49:12.911828",
   "environment_variables": {},
   "exception": null,
   "input_path": "__notebook__.ipynb",
   "output_path": "__notebook__.ipynb",
   "parameters": {},
   "start_time": "2025-01-13T22:49:07.654636",
   "version": "2.6.0"
  }
 },
 "nbformat": 4,
 "nbformat_minor": 5
}
