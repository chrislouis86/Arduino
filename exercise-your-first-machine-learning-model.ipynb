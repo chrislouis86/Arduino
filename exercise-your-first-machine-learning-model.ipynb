{
 "cells": [
  {
   "cell_type": "markdown",
   "id": "9b40cb7e",
   "metadata": {
    "papermill": {
     "duration": 0.004965,
     "end_time": "2025-01-13T22:46:16.225093",
     "exception": false,
     "start_time": "2025-01-13T22:46:16.220128",
     "status": "completed"
    },
    "tags": []
   },
   "source": [
    "**This notebook is an exercise in the [Introduction to Machine Learning](https://www.kaggle.com/learn/intro-to-machine-learning) course.  You can reference the tutorial at [this link](https://www.kaggle.com/dansbecker/your-first-machine-learning-model).**\n",
    "\n",
    "---\n"
   ]
  },
  {
   "cell_type": "markdown",
   "id": "d7642551",
   "metadata": {
    "papermill": {
     "duration": 0.003969,
     "end_time": "2025-01-13T22:46:16.233803",
     "exception": false,
     "start_time": "2025-01-13T22:46:16.229834",
     "status": "completed"
    },
    "tags": []
   },
   "source": [
    "## Recap\n",
    "So far, you have loaded your data and reviewed it with the following code. Run this cell to set up your coding environment where the previous step left off."
   ]
  },
  {
   "cell_type": "code",
   "execution_count": 1,
   "id": "66aa20c3",
   "metadata": {
    "execution": {
     "iopub.execute_input": "2025-01-13T22:46:16.243846Z",
     "iopub.status.busy": "2025-01-13T22:46:16.243478Z",
     "iopub.status.idle": "2025-01-13T22:46:19.292943Z",
     "shell.execute_reply": "2025-01-13T22:46:19.291533Z"
    },
    "papermill": {
     "duration": 3.056543,
     "end_time": "2025-01-13T22:46:19.294733",
     "exception": false,
     "start_time": "2025-01-13T22:46:16.238190",
     "status": "completed"
    },
    "tags": []
   },
   "outputs": [
    {
     "name": "stdout",
     "output_type": "stream",
     "text": [
      "Setup Complete\n"
     ]
    }
   ],
   "source": [
    "# Code you have previously used to load data\n",
    "import pandas as pd\n",
    "\n",
    "# Path of the file to read\n",
    "iowa_file_path = '../input/home-data-for-ml-course/train.csv'\n",
    "\n",
    "home_data = pd.read_csv(iowa_file_path)\n",
    "\n",
    "# Set up code checking\n",
    "from learntools.core import binder\n",
    "binder.bind(globals())\n",
    "from learntools.machine_learning.ex3 import *\n",
    "\n",
    "print(\"Setup Complete\")"
   ]
  },
  {
   "cell_type": "markdown",
   "id": "b0ac60ef",
   "metadata": {
    "papermill": {
     "duration": 0.004051,
     "end_time": "2025-01-13T22:46:19.303274",
     "exception": false,
     "start_time": "2025-01-13T22:46:19.299223",
     "status": "completed"
    },
    "tags": []
   },
   "source": [
    "# Exercises\n",
    "\n",
    "## Step 1: Specify Prediction Target\n",
    "Select the target variable, which corresponds to the sales price. Save this to a new variable called `y`. You'll need to print a list of the columns to find the name of the column you need.\n"
   ]
  },
  {
   "cell_type": "code",
   "execution_count": 2,
   "id": "57b5417e",
   "metadata": {
    "execution": {
     "iopub.execute_input": "2025-01-13T22:46:19.313529Z",
     "iopub.status.busy": "2025-01-13T22:46:19.312808Z",
     "iopub.status.idle": "2025-01-13T22:46:19.323726Z",
     "shell.execute_reply": "2025-01-13T22:46:19.322490Z"
    },
    "papermill": {
     "duration": 0.018059,
     "end_time": "2025-01-13T22:46:19.325521",
     "exception": false,
     "start_time": "2025-01-13T22:46:19.307462",
     "status": "completed"
    },
    "tags": []
   },
   "outputs": [],
   "source": [
    "# print the list of columns in the dataset to find the name of the prediction target\n",
    "y = home_data.SalePrice "
   ]
  },
  {
   "cell_type": "code",
   "execution_count": 3,
   "id": "7ec8c495",
   "metadata": {
    "execution": {
     "iopub.execute_input": "2025-01-13T22:46:19.335975Z",
     "iopub.status.busy": "2025-01-13T22:46:19.335581Z",
     "iopub.status.idle": "2025-01-13T22:46:19.339779Z",
     "shell.execute_reply": "2025-01-13T22:46:19.338527Z"
    },
    "papermill": {
     "duration": 0.011546,
     "end_time": "2025-01-13T22:46:19.341628",
     "exception": false,
     "start_time": "2025-01-13T22:46:19.330082",
     "status": "completed"
    },
    "tags": []
   },
   "outputs": [],
   "source": [
    "# The lines below will show you a hint or the solution.\n",
    "#step_1.hint() \n",
    "#step_1.solution()"
   ]
  },
  {
   "cell_type": "markdown",
   "id": "81190228",
   "metadata": {
    "papermill": {
     "duration": 0.003933,
     "end_time": "2025-01-13T22:46:19.350013",
     "exception": false,
     "start_time": "2025-01-13T22:46:19.346080",
     "status": "completed"
    },
    "tags": []
   },
   "source": [
    "## Step 2: Create X\n",
    "Now you will create a DataFrame called `X` holding the predictive features.\n",
    "\n",
    "Since you want only some columns from the original data, you'll first create a list with the names of the columns you want in `X`.\n",
    "\n",
    "You'll use just the following columns in the list (you can copy and paste the whole list to save some typing, though you'll still need to add quotes):\n",
    "  * LotArea\n",
    "  * YearBuilt\n",
    "  * 1stFlrSF\n",
    "  * 2ndFlrSF\n",
    "  * FullBath\n",
    "  * BedroomAbvGr\n",
    "  * TotRmsAbvGrd\n",
    "\n",
    "After you've created that list of features, use it to create the DataFrame that you'll use to fit the model."
   ]
  },
  {
   "cell_type": "code",
   "execution_count": 4,
   "id": "ededd3e7",
   "metadata": {
    "execution": {
     "iopub.execute_input": "2025-01-13T22:46:19.359822Z",
     "iopub.status.busy": "2025-01-13T22:46:19.359441Z",
     "iopub.status.idle": "2025-01-13T22:46:19.379854Z",
     "shell.execute_reply": "2025-01-13T22:46:19.378845Z"
    },
    "papermill": {
     "duration": 0.027297,
     "end_time": "2025-01-13T22:46:19.381533",
     "exception": false,
     "start_time": "2025-01-13T22:46:19.354236",
     "status": "completed"
    },
    "tags": []
   },
   "outputs": [
    {
     "data": {
      "application/javascript": [
       "parent.postMessage({\"jupyterEvent\": \"custom.exercise_interaction\", \"data\": {\"outcomeType\": 1, \"valueTowardsCompletion\": 0.25, \"interactionType\": 1, \"questionType\": 2, \"questionId\": \"2_SelectPredictionData\", \"learnToolsVersion\": \"0.3.4\", \"failureMessage\": \"\", \"exceptionClass\": \"\", \"trace\": \"\"}}, \"*\")"
      ],
      "text/plain": [
       "<IPython.core.display.Javascript object>"
      ]
     },
     "metadata": {},
     "output_type": "display_data"
    },
    {
     "data": {
      "text/markdown": [
       "<span style=\"color:#33cc33\">Correct</span>"
      ],
      "text/plain": [
       "Correct"
      ]
     },
     "metadata": {},
     "output_type": "display_data"
    }
   ],
   "source": [
    "# Create the list of features below\n",
    "feature_names = [\"LotArea\", \"YearBuilt\", \"1stFlrSF\", \"2ndFlrSF\",\n",
    "                      \"FullBath\", \"BedroomAbvGr\", \"TotRmsAbvGrd\"]\n",
    "\n",
    "# Select data corresponding to features in feature_names\n",
    "X = home_data[feature_names]\n",
    "\n",
    "# Check your answer\n",
    "step_2.check()"
   ]
  },
  {
   "cell_type": "code",
   "execution_count": 5,
   "id": "0d55620f",
   "metadata": {
    "execution": {
     "iopub.execute_input": "2025-01-13T22:46:19.392083Z",
     "iopub.status.busy": "2025-01-13T22:46:19.391694Z",
     "iopub.status.idle": "2025-01-13T22:46:19.395709Z",
     "shell.execute_reply": "2025-01-13T22:46:19.394661Z"
    },
    "papermill": {
     "duration": 0.011275,
     "end_time": "2025-01-13T22:46:19.397470",
     "exception": false,
     "start_time": "2025-01-13T22:46:19.386195",
     "status": "completed"
    },
    "tags": []
   },
   "outputs": [],
   "source": [
    "#step_2.hint()\n",
    "#step_2.solution()"
   ]
  },
  {
   "cell_type": "markdown",
   "id": "f1f27652",
   "metadata": {
    "papermill": {
     "duration": 0.004357,
     "end_time": "2025-01-13T22:46:19.406526",
     "exception": false,
     "start_time": "2025-01-13T22:46:19.402169",
     "status": "completed"
    },
    "tags": []
   },
   "source": [
    "## Review Data\n",
    "Before building a model, take a quick look at **X** to verify it looks sensible"
   ]
  },
  {
   "cell_type": "code",
   "execution_count": 6,
   "id": "3323bb30",
   "metadata": {
    "execution": {
     "iopub.execute_input": "2025-01-13T22:46:19.416699Z",
     "iopub.status.busy": "2025-01-13T22:46:19.416294Z",
     "iopub.status.idle": "2025-01-13T22:46:19.420144Z",
     "shell.execute_reply": "2025-01-13T22:46:19.419104Z"
    },
    "papermill": {
     "duration": 0.011028,
     "end_time": "2025-01-13T22:46:19.421952",
     "exception": false,
     "start_time": "2025-01-13T22:46:19.410924",
     "status": "completed"
    },
    "tags": []
   },
   "outputs": [],
   "source": [
    "# Review data\n",
    "# print description or statistics from X\n",
    "#print(_)\n",
    "\n",
    "# print the top few lines\n",
    "#print(_)"
   ]
  },
  {
   "cell_type": "markdown",
   "id": "97f264f7",
   "metadata": {
    "papermill": {
     "duration": 0.004324,
     "end_time": "2025-01-13T22:46:19.431125",
     "exception": false,
     "start_time": "2025-01-13T22:46:19.426801",
     "status": "completed"
    },
    "tags": []
   },
   "source": [
    "## Step 3: Specify and Fit Model\n",
    "Create a `DecisionTreeRegressor` and save it iowa_model. Ensure you've done the relevant import from sklearn to run this command.\n",
    "\n",
    "Then fit the model you just created using the data in `X` and `y` that you saved above."
   ]
  },
  {
   "cell_type": "code",
   "execution_count": 7,
   "id": "c2137428",
   "metadata": {
    "execution": {
     "iopub.execute_input": "2025-01-13T22:46:19.441607Z",
     "iopub.status.busy": "2025-01-13T22:46:19.441141Z",
     "iopub.status.idle": "2025-01-13T22:46:19.464834Z",
     "shell.execute_reply": "2025-01-13T22:46:19.463495Z"
    },
    "papermill": {
     "duration": 0.031055,
     "end_time": "2025-01-13T22:46:19.466686",
     "exception": false,
     "start_time": "2025-01-13T22:46:19.435631",
     "status": "completed"
    },
    "tags": []
   },
   "outputs": [
    {
     "data": {
      "application/javascript": [
       "parent.postMessage({\"jupyterEvent\": \"custom.exercise_interaction\", \"data\": {\"outcomeType\": 1, \"valueTowardsCompletion\": 0.25, \"interactionType\": 1, \"questionType\": 2, \"questionId\": \"3_CreateModel\", \"learnToolsVersion\": \"0.3.4\", \"failureMessage\": \"\", \"exceptionClass\": \"\", \"trace\": \"\"}}, \"*\")"
      ],
      "text/plain": [
       "<IPython.core.display.Javascript object>"
      ]
     },
     "metadata": {},
     "output_type": "display_data"
    },
    {
     "data": {
      "text/markdown": [
       "<span style=\"color:#33cc33\">Correct</span>"
      ],
      "text/plain": [
       "Correct"
      ]
     },
     "metadata": {},
     "output_type": "display_data"
    }
   ],
   "source": [
    "from sklearn.tree import DecisionTreeRegressor \n",
    "#specify the model. \n",
    "#For model reproducibility, set a numeric value for random_state when specifying the model\n",
    "iowa_model = DecisionTreeRegressor(random_state=1)\n",
    "\n",
    "# Fit the model\n",
    "iowa_model.fit(X, y)\n",
    "\n",
    "# Check your answer\n",
    "step_3.check()"
   ]
  },
  {
   "cell_type": "code",
   "execution_count": 8,
   "id": "ac6ed4f3",
   "metadata": {
    "execution": {
     "iopub.execute_input": "2025-01-13T22:46:19.478305Z",
     "iopub.status.busy": "2025-01-13T22:46:19.477922Z",
     "iopub.status.idle": "2025-01-13T22:46:19.481636Z",
     "shell.execute_reply": "2025-01-13T22:46:19.480670Z"
    },
    "papermill": {
     "duration": 0.011456,
     "end_time": "2025-01-13T22:46:19.483204",
     "exception": false,
     "start_time": "2025-01-13T22:46:19.471748",
     "status": "completed"
    },
    "tags": []
   },
   "outputs": [],
   "source": [
    " #step_3.hint()\n",
    " #step_3.solution()"
   ]
  },
  {
   "cell_type": "markdown",
   "id": "781d22e6",
   "metadata": {
    "papermill": {
     "duration": 0.004354,
     "end_time": "2025-01-13T22:46:19.492346",
     "exception": false,
     "start_time": "2025-01-13T22:46:19.487992",
     "status": "completed"
    },
    "tags": []
   },
   "source": [
    "## Step 4: Make Predictions\n",
    "Make predictions with the model's `predict` command using `X` as the data. Save the results to a variable called `predictions`."
   ]
  },
  {
   "cell_type": "code",
   "execution_count": 9,
   "id": "347f08fa",
   "metadata": {
    "execution": {
     "iopub.execute_input": "2025-01-13T22:46:19.502745Z",
     "iopub.status.busy": "2025-01-13T22:46:19.502355Z",
     "iopub.status.idle": "2025-01-13T22:46:19.597207Z",
     "shell.execute_reply": "2025-01-13T22:46:19.596116Z"
    },
    "papermill": {
     "duration": 0.101906,
     "end_time": "2025-01-13T22:46:19.598787",
     "exception": false,
     "start_time": "2025-01-13T22:46:19.496881",
     "status": "completed"
    },
    "tags": []
   },
   "outputs": [
    {
     "name": "stdout",
     "output_type": "stream",
     "text": [
      "[208500. 181500. 223500. ... 266500. 142125. 147500.]\n"
     ]
    },
    {
     "data": {
      "application/javascript": [
       "parent.postMessage({\"jupyterEvent\": \"custom.exercise_interaction\", \"data\": {\"outcomeType\": 1, \"valueTowardsCompletion\": 0.25, \"interactionType\": 1, \"questionType\": 2, \"questionId\": \"4_MakePredictions\", \"learnToolsVersion\": \"0.3.4\", \"failureMessage\": \"\", \"exceptionClass\": \"\", \"trace\": \"\"}}, \"*\")"
      ],
      "text/plain": [
       "<IPython.core.display.Javascript object>"
      ]
     },
     "metadata": {},
     "output_type": "display_data"
    },
    {
     "data": {
      "text/markdown": [
       "<span style=\"color:#33cc33\">Correct</span>"
      ],
      "text/plain": [
       "Correct"
      ]
     },
     "metadata": {},
     "output_type": "display_data"
    }
   ],
   "source": [
    "predictions = iowa_model.predict(X)\n",
    "print(predictions)\n",
    "\n",
    "# Check your answer\n",
    "step_4.check()"
   ]
  },
  {
   "cell_type": "code",
   "execution_count": 10,
   "id": "b0d88522",
   "metadata": {
    "execution": {
     "iopub.execute_input": "2025-01-13T22:46:19.610257Z",
     "iopub.status.busy": "2025-01-13T22:46:19.609860Z",
     "iopub.status.idle": "2025-01-13T22:46:19.621475Z",
     "shell.execute_reply": "2025-01-13T22:46:19.620219Z"
    },
    "papermill": {
     "duration": 0.019432,
     "end_time": "2025-01-13T22:46:19.623269",
     "exception": false,
     "start_time": "2025-01-13T22:46:19.603837",
     "status": "completed"
    },
    "tags": []
   },
   "outputs": [
    {
     "data": {
      "application/javascript": [
       "parent.postMessage({\"jupyterEvent\": \"custom.exercise_interaction\", \"data\": {\"interactionType\": 2, \"questionType\": 2, \"questionId\": \"4_MakePredictions\", \"learnToolsVersion\": \"0.3.4\", \"valueTowardsCompletion\": 0.0, \"failureMessage\": \"\", \"exceptionClass\": \"\", \"trace\": \"\", \"outcomeType\": 4}}, \"*\")"
      ],
      "text/plain": [
       "<IPython.core.display.Javascript object>"
      ]
     },
     "metadata": {},
     "output_type": "display_data"
    },
    {
     "data": {
      "text/markdown": [
       "<span style=\"color:#3366cc\">Hint:</span> Use `iowa_model.predict` with an argument holding the data to predict with."
      ],
      "text/plain": [
       "Hint: Use `iowa_model.predict` with an argument holding the data to predict with."
      ]
     },
     "metadata": {},
     "output_type": "display_data"
    },
    {
     "data": {
      "application/javascript": [
       "parent.postMessage({\"jupyterEvent\": \"custom.exercise_interaction\", \"data\": {\"interactionType\": 3, \"questionType\": 2, \"questionId\": \"4_MakePredictions\", \"learnToolsVersion\": \"0.3.4\", \"valueTowardsCompletion\": 0.0, \"failureMessage\": \"\", \"exceptionClass\": \"\", \"trace\": \"\", \"outcomeType\": 4}}, \"*\")"
      ],
      "text/plain": [
       "<IPython.core.display.Javascript object>"
      ]
     },
     "metadata": {},
     "output_type": "display_data"
    },
    {
     "data": {
      "text/markdown": [
       "<span style=\"color:#33cc99\">Solution:</span> \n",
       "```python\n",
       "iowa_model.predict(X)\n",
       "```"
      ],
      "text/plain": [
       "Solution: \n",
       "```python\n",
       "iowa_model.predict(X)\n",
       "```"
      ]
     },
     "metadata": {},
     "output_type": "display_data"
    }
   ],
   "source": [
    "step_4.hint()\n",
    "step_4.solution()"
   ]
  },
  {
   "cell_type": "markdown",
   "id": "373a6d28",
   "metadata": {
    "papermill": {
     "duration": 0.005089,
     "end_time": "2025-01-13T22:46:19.633905",
     "exception": false,
     "start_time": "2025-01-13T22:46:19.628816",
     "status": "completed"
    },
    "tags": []
   },
   "source": [
    "## Think About Your Results\n",
    "\n",
    "Use the `head` method to compare the top few predictions to the actual home values (in `y`) for those same homes. Anything surprising?\n"
   ]
  },
  {
   "cell_type": "code",
   "execution_count": 11,
   "id": "90428759",
   "metadata": {
    "execution": {
     "iopub.execute_input": "2025-01-13T22:46:19.646532Z",
     "iopub.status.busy": "2025-01-13T22:46:19.646043Z",
     "iopub.status.idle": "2025-01-13T22:46:19.656012Z",
     "shell.execute_reply": "2025-01-13T22:46:19.654737Z"
    },
    "papermill": {
     "duration": 0.018183,
     "end_time": "2025-01-13T22:46:19.657907",
     "exception": false,
     "start_time": "2025-01-13T22:46:19.639724",
     "status": "completed"
    },
    "tags": []
   },
   "outputs": [
    {
     "name": "stdout",
     "output_type": "stream",
     "text": [
      "[208500. 181500. 223500. ... 266500. 142125. 147500.]\n"
     ]
    }
   ],
   "source": [
    "# You can write code in this cell\n",
    "predictions = iowa_model.predict(X.head())\n",
    "\n",
    "predictions = iowa_model.predict(X)\n",
    "print(predictions)"
   ]
  },
  {
   "cell_type": "markdown",
   "id": "d3786df1",
   "metadata": {
    "papermill": {
     "duration": 0.005092,
     "end_time": "2025-01-13T22:46:19.668592",
     "exception": false,
     "start_time": "2025-01-13T22:46:19.663500",
     "status": "completed"
    },
    "tags": []
   },
   "source": [
    "It's natural to ask how accurate the model's predictions will be and how you can improve that. That will be you're next step.\n",
    "\n",
    "# Keep Going\n",
    "\n",
    "You are ready for **[Model Validation](https://www.kaggle.com/dansbecker/model-validation).**\n"
   ]
  },
  {
   "cell_type": "markdown",
   "id": "e742d0a2",
   "metadata": {
    "papermill": {
     "duration": 0.00549,
     "end_time": "2025-01-13T22:46:19.679823",
     "exception": false,
     "start_time": "2025-01-13T22:46:19.674333",
     "status": "completed"
    },
    "tags": []
   },
   "source": [
    "---\n",
    "\n",
    "\n",
    "\n",
    "\n",
    "*Have questions or comments? Visit the [course discussion forum](https://www.kaggle.com/learn/intro-to-machine-learning/discussion) to chat with other learners.*"
   ]
  }
 ],
 "metadata": {
  "kaggle": {
   "accelerator": "none",
   "dataSources": [
    {
     "databundleVersionId": 111096,
     "sourceId": 10211,
     "sourceType": "competition"
    },
    {
     "datasetId": 11167,
     "sourceId": 15520,
     "sourceType": "datasetVersion"
    },
    {
     "datasetId": 2709,
     "sourceId": 38454,
     "sourceType": "datasetVersion"
    }
   ],
   "isGpuEnabled": false,
   "isInternetEnabled": false,
   "language": "python",
   "sourceType": "notebook"
  },
  "kernelspec": {
   "display_name": "Python 3",
   "language": "python",
   "name": "python3"
  },
  "language_info": {
   "codemirror_mode": {
    "name": "ipython",
    "version": 3
   },
   "file_extension": ".py",
   "mimetype": "text/x-python",
   "name": "python",
   "nbconvert_exporter": "python",
   "pygments_lexer": "ipython3",
   "version": "3.10.12"
  },
  "papermill": {
   "default_parameters": {},
   "duration": 7.482337,
   "end_time": "2025-01-13T22:46:20.406126",
   "environment_variables": {},
   "exception": null,
   "input_path": "__notebook__.ipynb",
   "output_path": "__notebook__.ipynb",
   "parameters": {},
   "start_time": "2025-01-13T22:46:12.923789",
   "version": "2.6.0"
  }
 },
 "nbformat": 4,
 "nbformat_minor": 5
}
